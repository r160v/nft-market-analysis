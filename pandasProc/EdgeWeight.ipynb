{
 "cells": [
  {
   "cell_type": "code",
   "execution_count": 1,
   "id": "44d334d9",
   "metadata": {},
   "outputs": [],
   "source": [
    "import pandas as pd\n",
    "import datetime\n",
    "import os"
   ]
  },
  {
   "cell_type": "code",
   "execution_count": 2,
   "id": "8187cc85",
   "metadata": {},
   "outputs": [],
   "source": [
    "import seaborn as sns\n",
    "import matplotlib.pyplot as plt\n",
    "import numpy as np\n",
    "sns.set(color_codes=True)\n",
    "\n",
    "# if matplotlib is not set inline, you will not see plots\n",
    "%matplotlib inline "
   ]
  },
  {
   "cell_type": "code",
   "execution_count": 3,
   "id": "33de5bab",
   "metadata": {},
   "outputs": [],
   "source": [
    "columns = [\"Timestamp\", \"Window\", \"Buyer\", \"Seller\", \"Weight\"]"
   ]
  },
  {
   "cell_type": "code",
   "execution_count": 4,
   "id": "bbc48c20",
   "metadata": {},
   "outputs": [],
   "source": [
    "targetdir = \"./data/EdgeWeight/total_window/\"\n",
    "filelist = os.listdir(targetdir) \n",
    "\n",
    "df = pd.concat((pd.read_csv(targetdir + file, names= columns) \n",
    "                for file in filelist if file.startswith(\"parti\")), ignore_index=True)"
   ]
  },
  {
   "cell_type": "code",
   "execution_count": 32,
   "id": "a48419d9",
   "metadata": {},
   "outputs": [],
   "source": [
    "df.drop([\"Timestamp\", \"Window\", \"Buyer\", \"Seller\"], axis=1, inplace=True)"
   ]
  },
  {
   "cell_type": "code",
   "execution_count": 18,
   "id": "15dc477a",
   "metadata": {},
   "outputs": [
    {
     "name": "stdout",
     "output_type": "stream",
     "text": [
      "<class 'pandas.core.frame.DataFrame'>\n",
      "RangeIndex: 2684723 entries, 0 to 2684722\n",
      "Data columns (total 1 columns):\n",
      " #   Column  Dtype\n",
      "---  ------  -----\n",
      " 0   Weight  int64\n",
      "dtypes: int64(1)\n",
      "memory usage: 20.5 MB\n"
     ]
    }
   ],
   "source": [
    "df.info()\n",
    "    "
   ]
  },
  {
   "cell_type": "code",
   "execution_count": 24,
   "id": "4775bdf8",
   "metadata": {},
   "outputs": [
    {
     "data": {
      "text/plain": [
       "Timestamp    2684723\n",
       "Window       2684723\n",
       "Buyer        2684723\n",
       "Seller       2684723\n",
       "Weight       2684723\n",
       "dtype: int64"
      ]
     },
     "execution_count": 24,
     "metadata": {},
     "output_type": "execute_result"
    }
   ],
   "source": [
    "df.count()"
   ]
  },
  {
   "cell_type": "code",
   "execution_count": 30,
   "id": "e986bc14",
   "metadata": {},
   "outputs": [
    {
     "data": {
      "text/plain": [
       "array([1619560797000])"
      ]
     },
     "execution_count": 30,
     "metadata": {},
     "output_type": "execute_result"
    }
   ],
   "source": [
    "df[\"Timestamp\"].unique()"
   ]
  },
  {
   "cell_type": "code",
   "execution_count": 25,
   "id": "8de2a4bd",
   "metadata": {},
   "outputs": [
    {
     "data": {
      "text/plain": [
       "0         2021-04-27\n",
       "1         2021-04-27\n",
       "2         2021-04-27\n",
       "3         2021-04-27\n",
       "4         2021-04-27\n",
       "             ...    \n",
       "2684718   2021-04-27\n",
       "2684719   2021-04-27\n",
       "2684720   2021-04-27\n",
       "2684721   2021-04-27\n",
       "2684722   2021-04-27\n",
       "Name: Timestamp, Length: 2684723, dtype: datetime64[ns]"
      ]
     },
     "execution_count": 25,
     "metadata": {},
     "output_type": "execute_result"
    }
   ],
   "source": [
    "pd.to_datetime(df[\"Timestamp\"], unit='ms').dt.normalize()"
   ]
  },
  {
   "cell_type": "code",
   "execution_count": 5,
   "id": "a0284789",
   "metadata": {},
   "outputs": [
    {
     "data": {
      "text/html": [
       "<div>\n",
       "<style scoped>\n",
       "    .dataframe tbody tr th:only-of-type {\n",
       "        vertical-align: middle;\n",
       "    }\n",
       "\n",
       "    .dataframe tbody tr th {\n",
       "        vertical-align: top;\n",
       "    }\n",
       "\n",
       "    .dataframe thead th {\n",
       "        text-align: right;\n",
       "    }\n",
       "</style>\n",
       "<table border=\"1\" class=\"dataframe\">\n",
       "  <thead>\n",
       "    <tr style=\"text-align: right;\">\n",
       "      <th></th>\n",
       "      <th>Timestamp</th>\n",
       "      <th>Window</th>\n",
       "      <th>Buyer</th>\n",
       "      <th>Seller</th>\n",
       "      <th>Weight</th>\n",
       "    </tr>\n",
       "  </thead>\n",
       "  <tbody>\n",
       "    <tr>\n",
       "      <th>0</th>\n",
       "      <td>1619560797000</td>\n",
       "      <td>139104000000</td>\n",
       "      <td>0x9ba1e70de2917243082404eec8f6152916432d11</td>\n",
       "      <td>0x0b742783bfac8d4b6d332e5d1b63f433fcd8c0a0</td>\n",
       "      <td>3</td>\n",
       "    </tr>\n",
       "    <tr>\n",
       "      <th>1</th>\n",
       "      <td>1619560797000</td>\n",
       "      <td>139104000000</td>\n",
       "      <td>0x9ba1e70de2917243082404eec8f6152916432d11</td>\n",
       "      <td>0x1099b5eaf607a0df14f5da3c6c8fd06c74d23de0</td>\n",
       "      <td>1</td>\n",
       "    </tr>\n",
       "    <tr>\n",
       "      <th>2</th>\n",
       "      <td>1619560797000</td>\n",
       "      <td>139104000000</td>\n",
       "      <td>dqdc4.wam</td>\n",
       "      <td>52cbg.wam</td>\n",
       "      <td>1</td>\n",
       "    </tr>\n",
       "    <tr>\n",
       "      <th>3</th>\n",
       "      <td>1619560797000</td>\n",
       "      <td>139104000000</td>\n",
       "      <td>dqdc4.wam</td>\n",
       "      <td>qwybk.wam</td>\n",
       "      <td>1</td>\n",
       "    </tr>\n",
       "    <tr>\n",
       "      <th>4</th>\n",
       "      <td>1619560797000</td>\n",
       "      <td>139104000000</td>\n",
       "      <td>14zbi.wam</td>\n",
       "      <td>u.wbi.wam</td>\n",
       "      <td>1</td>\n",
       "    </tr>\n",
       "    <tr>\n",
       "      <th>...</th>\n",
       "      <td>...</td>\n",
       "      <td>...</td>\n",
       "      <td>...</td>\n",
       "      <td>...</td>\n",
       "      <td>...</td>\n",
       "    </tr>\n",
       "    <tr>\n",
       "      <th>2684718</th>\n",
       "      <td>1619560797000</td>\n",
       "      <td>139104000000</td>\n",
       "      <td>0xeabf37e0e0b94bbef47a0953fba221e8af378e45</td>\n",
       "      <td>0xbf4dd7ab937bf6f66a685268721a66ae39f88153</td>\n",
       "      <td>1</td>\n",
       "    </tr>\n",
       "    <tr>\n",
       "      <th>2684719</th>\n",
       "      <td>1619560797000</td>\n",
       "      <td>139104000000</td>\n",
       "      <td>0xbe7156733eace3d99daacc7ed3fe51d6d2a2bea0</td>\n",
       "      <td>0x0ed70f92b87ceced51a9e472fcd8d93a54a11835</td>\n",
       "      <td>1</td>\n",
       "    </tr>\n",
       "    <tr>\n",
       "      <th>2684720</th>\n",
       "      <td>1619560797000</td>\n",
       "      <td>139104000000</td>\n",
       "      <td>0x0d03d5e552531428da5674b8419bd553b7c253cf</td>\n",
       "      <td>0xc4bb83b0245aa98659c64503cb9db44cb67a9537</td>\n",
       "      <td>1</td>\n",
       "    </tr>\n",
       "    <tr>\n",
       "      <th>2684721</th>\n",
       "      <td>1619560797000</td>\n",
       "      <td>139104000000</td>\n",
       "      <td>0x0d03d5e552531428da5674b8419bd553b7c253cf</td>\n",
       "      <td>0x7afa41136b0384cb3e3283c47dcd488ba6713c28</td>\n",
       "      <td>1</td>\n",
       "    </tr>\n",
       "    <tr>\n",
       "      <th>2684722</th>\n",
       "      <td>1619560797000</td>\n",
       "      <td>139104000000</td>\n",
       "      <td>0x0d03d5e552531428da5674b8419bd553b7c253cf</td>\n",
       "      <td>0xb8012acd96f92a57207b89573507be1961d48cda</td>\n",
       "      <td>1</td>\n",
       "    </tr>\n",
       "  </tbody>\n",
       "</table>\n",
       "<p>2684723 rows × 5 columns</p>\n",
       "</div>"
      ],
      "text/plain": [
       "             Timestamp        Window  \\\n",
       "0        1619560797000  139104000000   \n",
       "1        1619560797000  139104000000   \n",
       "2        1619560797000  139104000000   \n",
       "3        1619560797000  139104000000   \n",
       "4        1619560797000  139104000000   \n",
       "...                ...           ...   \n",
       "2684718  1619560797000  139104000000   \n",
       "2684719  1619560797000  139104000000   \n",
       "2684720  1619560797000  139104000000   \n",
       "2684721  1619560797000  139104000000   \n",
       "2684722  1619560797000  139104000000   \n",
       "\n",
       "                                              Buyer  \\\n",
       "0        0x9ba1e70de2917243082404eec8f6152916432d11   \n",
       "1        0x9ba1e70de2917243082404eec8f6152916432d11   \n",
       "2                                         dqdc4.wam   \n",
       "3                                         dqdc4.wam   \n",
       "4                                         14zbi.wam   \n",
       "...                                             ...   \n",
       "2684718  0xeabf37e0e0b94bbef47a0953fba221e8af378e45   \n",
       "2684719  0xbe7156733eace3d99daacc7ed3fe51d6d2a2bea0   \n",
       "2684720  0x0d03d5e552531428da5674b8419bd553b7c253cf   \n",
       "2684721  0x0d03d5e552531428da5674b8419bd553b7c253cf   \n",
       "2684722  0x0d03d5e552531428da5674b8419bd553b7c253cf   \n",
       "\n",
       "                                             Seller  Weight  \n",
       "0        0x0b742783bfac8d4b6d332e5d1b63f433fcd8c0a0       3  \n",
       "1        0x1099b5eaf607a0df14f5da3c6c8fd06c74d23de0       1  \n",
       "2                                         52cbg.wam       1  \n",
       "3                                         qwybk.wam       1  \n",
       "4                                         u.wbi.wam       1  \n",
       "...                                             ...     ...  \n",
       "2684718  0xbf4dd7ab937bf6f66a685268721a66ae39f88153       1  \n",
       "2684719  0x0ed70f92b87ceced51a9e472fcd8d93a54a11835       1  \n",
       "2684720  0xc4bb83b0245aa98659c64503cb9db44cb67a9537       1  \n",
       "2684721  0x7afa41136b0384cb3e3283c47dcd488ba6713c28       1  \n",
       "2684722  0xb8012acd96f92a57207b89573507be1961d48cda       1  \n",
       "\n",
       "[2684723 rows x 5 columns]"
      ]
     },
     "execution_count": 5,
     "metadata": {},
     "output_type": "execute_result"
    }
   ],
   "source": [
    "df"
   ]
  },
  {
   "cell_type": "code",
   "execution_count": 236,
   "id": "90d6d029",
   "metadata": {},
   "outputs": [
    {
     "name": "stdout",
     "output_type": "stream",
     "text": [
      "<class 'pandas.core.frame.DataFrame'>\n",
      "RangeIndex: 2118709 entries, 0 to 2118708\n",
      "Data columns (total 3 columns):\n",
      " #   Column      Dtype         \n",
      "---  ------      -----         \n",
      " 0   Timestamp   datetime64[ns]\n",
      " 1   Category    object        \n",
      " 2   Price(USD)  float64       \n",
      "dtypes: datetime64[ns](1), float64(1), object(1)\n",
      "memory usage: 48.5+ MB\n"
     ]
    }
   ],
   "source": [
    "df.info()"
   ]
  },
  {
   "cell_type": "code",
   "execution_count": 35,
   "id": "5fd0eef7",
   "metadata": {},
   "outputs": [
    {
     "data": {
      "text/html": [
       "<div>\n",
       "<style scoped>\n",
       "    .dataframe tbody tr th:only-of-type {\n",
       "        vertical-align: middle;\n",
       "    }\n",
       "\n",
       "    .dataframe tbody tr th {\n",
       "        vertical-align: top;\n",
       "    }\n",
       "\n",
       "    .dataframe thead th {\n",
       "        text-align: right;\n",
       "    }\n",
       "</style>\n",
       "<table border=\"1\" class=\"dataframe\">\n",
       "  <thead>\n",
       "    <tr style=\"text-align: right;\">\n",
       "      <th></th>\n",
       "      <th>Weight</th>\n",
       "    </tr>\n",
       "  </thead>\n",
       "  <tbody>\n",
       "    <tr>\n",
       "      <th>388464</th>\n",
       "      <td>14022</td>\n",
       "    </tr>\n",
       "    <tr>\n",
       "      <th>2090289</th>\n",
       "      <td>10587</td>\n",
       "    </tr>\n",
       "    <tr>\n",
       "      <th>2335617</th>\n",
       "      <td>6481</td>\n",
       "    </tr>\n",
       "    <tr>\n",
       "      <th>152790</th>\n",
       "      <td>6082</td>\n",
       "    </tr>\n",
       "    <tr>\n",
       "      <th>388348</th>\n",
       "      <td>6061</td>\n",
       "    </tr>\n",
       "    <tr>\n",
       "      <th>...</th>\n",
       "      <td>...</td>\n",
       "    </tr>\n",
       "    <tr>\n",
       "      <th>981102</th>\n",
       "      <td>1</td>\n",
       "    </tr>\n",
       "    <tr>\n",
       "      <th>981103</th>\n",
       "      <td>1</td>\n",
       "    </tr>\n",
       "    <tr>\n",
       "      <th>981104</th>\n",
       "      <td>1</td>\n",
       "    </tr>\n",
       "    <tr>\n",
       "      <th>981105</th>\n",
       "      <td>1</td>\n",
       "    </tr>\n",
       "    <tr>\n",
       "      <th>2684722</th>\n",
       "      <td>1</td>\n",
       "    </tr>\n",
       "  </tbody>\n",
       "</table>\n",
       "<p>2684723 rows × 1 columns</p>\n",
       "</div>"
      ],
      "text/plain": [
       "         Weight\n",
       "388464    14022\n",
       "2090289   10587\n",
       "2335617    6481\n",
       "152790     6082\n",
       "388348     6061\n",
       "...         ...\n",
       "981102        1\n",
       "981103        1\n",
       "981104        1\n",
       "981105        1\n",
       "2684722       1\n",
       "\n",
       "[2684723 rows x 1 columns]"
      ]
     },
     "execution_count": 35,
     "metadata": {},
     "output_type": "execute_result"
    }
   ],
   "source": [
    "df.sort_values([\"Weight\"], ascending=False)"
   ]
  },
  {
   "cell_type": "code",
   "execution_count": 37,
   "id": "1197fe7c",
   "metadata": {},
   "outputs": [
    {
     "data": {
      "text/plain": [
       "1.8417274333329732"
      ]
     },
     "execution_count": 37,
     "metadata": {},
     "output_type": "execute_result"
    }
   ],
   "source": [
    "df[\"Weight\"].mean()"
   ]
  },
  {
   "cell_type": "code",
   "execution_count": 38,
   "id": "3d23b1fc",
   "metadata": {},
   "outputs": [
    {
     "data": {
      "text/plain": [
       "14022"
      ]
     },
     "execution_count": 38,
     "metadata": {},
     "output_type": "execute_result"
    }
   ],
   "source": [
    "df[\"Weight\"].max()"
   ]
  },
  {
   "cell_type": "code",
   "execution_count": 39,
   "id": "300ed253",
   "metadata": {},
   "outputs": [
    {
     "data": {
      "text/plain": [
       "1.0"
      ]
     },
     "execution_count": 39,
     "metadata": {},
     "output_type": "execute_result"
    }
   ],
   "source": [
    "df[\"Weight\"].median()"
   ]
  },
  {
   "cell_type": "code",
   "execution_count": 6,
   "id": "1f2770a1",
   "metadata": {},
   "outputs": [],
   "source": []
  },
  {
   "cell_type": "code",
   "execution_count": 7,
   "id": "469f125c",
   "metadata": {},
   "outputs": [
    {
     "data": {
      "text/html": [
       "<div>\n",
       "<style scoped>\n",
       "    .dataframe tbody tr th:only-of-type {\n",
       "        vertical-align: middle;\n",
       "    }\n",
       "\n",
       "    .dataframe tbody tr th {\n",
       "        vertical-align: top;\n",
       "    }\n",
       "\n",
       "    .dataframe thead th {\n",
       "        text-align: right;\n",
       "    }\n",
       "</style>\n",
       "<table border=\"1\" class=\"dataframe\">\n",
       "  <thead>\n",
       "    <tr style=\"text-align: right;\">\n",
       "      <th></th>\n",
       "      <th>Buyer</th>\n",
       "      <th>Seller</th>\n",
       "    </tr>\n",
       "  </thead>\n",
       "  <tbody>\n",
       "    <tr>\n",
       "      <th>0</th>\n",
       "      <td>0x9ba1e70de2917243082404eec8f6152916432d11</td>\n",
       "      <td>0x0b742783bfac8d4b6d332e5d1b63f433fcd8c0a0</td>\n",
       "    </tr>\n",
       "    <tr>\n",
       "      <th>1</th>\n",
       "      <td>0x9ba1e70de2917243082404eec8f6152916432d11</td>\n",
       "      <td>0x1099b5eaf607a0df14f5da3c6c8fd06c74d23de0</td>\n",
       "    </tr>\n",
       "    <tr>\n",
       "      <th>2</th>\n",
       "      <td>dqdc4.wam</td>\n",
       "      <td>52cbg.wam</td>\n",
       "    </tr>\n",
       "    <tr>\n",
       "      <th>3</th>\n",
       "      <td>dqdc4.wam</td>\n",
       "      <td>qwybk.wam</td>\n",
       "    </tr>\n",
       "    <tr>\n",
       "      <th>4</th>\n",
       "      <td>14zbi.wam</td>\n",
       "      <td>u.wbi.wam</td>\n",
       "    </tr>\n",
       "    <tr>\n",
       "      <th>...</th>\n",
       "      <td>...</td>\n",
       "      <td>...</td>\n",
       "    </tr>\n",
       "    <tr>\n",
       "      <th>2684718</th>\n",
       "      <td>0xeabf37e0e0b94bbef47a0953fba221e8af378e45</td>\n",
       "      <td>0xbf4dd7ab937bf6f66a685268721a66ae39f88153</td>\n",
       "    </tr>\n",
       "    <tr>\n",
       "      <th>2684719</th>\n",
       "      <td>0xbe7156733eace3d99daacc7ed3fe51d6d2a2bea0</td>\n",
       "      <td>0x0ed70f92b87ceced51a9e472fcd8d93a54a11835</td>\n",
       "    </tr>\n",
       "    <tr>\n",
       "      <th>2684720</th>\n",
       "      <td>0x0d03d5e552531428da5674b8419bd553b7c253cf</td>\n",
       "      <td>0xc4bb83b0245aa98659c64503cb9db44cb67a9537</td>\n",
       "    </tr>\n",
       "    <tr>\n",
       "      <th>2684721</th>\n",
       "      <td>0x0d03d5e552531428da5674b8419bd553b7c253cf</td>\n",
       "      <td>0x7afa41136b0384cb3e3283c47dcd488ba6713c28</td>\n",
       "    </tr>\n",
       "    <tr>\n",
       "      <th>2684722</th>\n",
       "      <td>0x0d03d5e552531428da5674b8419bd553b7c253cf</td>\n",
       "      <td>0xb8012acd96f92a57207b89573507be1961d48cda</td>\n",
       "    </tr>\n",
       "  </tbody>\n",
       "</table>\n",
       "<p>2684723 rows × 2 columns</p>\n",
       "</div>"
      ],
      "text/plain": [
       "                                              Buyer  \\\n",
       "0        0x9ba1e70de2917243082404eec8f6152916432d11   \n",
       "1        0x9ba1e70de2917243082404eec8f6152916432d11   \n",
       "2                                         dqdc4.wam   \n",
       "3                                         dqdc4.wam   \n",
       "4                                         14zbi.wam   \n",
       "...                                             ...   \n",
       "2684718  0xeabf37e0e0b94bbef47a0953fba221e8af378e45   \n",
       "2684719  0xbe7156733eace3d99daacc7ed3fe51d6d2a2bea0   \n",
       "2684720  0x0d03d5e552531428da5674b8419bd553b7c253cf   \n",
       "2684721  0x0d03d5e552531428da5674b8419bd553b7c253cf   \n",
       "2684722  0x0d03d5e552531428da5674b8419bd553b7c253cf   \n",
       "\n",
       "                                             Seller  \n",
       "0        0x0b742783bfac8d4b6d332e5d1b63f433fcd8c0a0  \n",
       "1        0x1099b5eaf607a0df14f5da3c6c8fd06c74d23de0  \n",
       "2                                         52cbg.wam  \n",
       "3                                         qwybk.wam  \n",
       "4                                         u.wbi.wam  \n",
       "...                                             ...  \n",
       "2684718  0xbf4dd7ab937bf6f66a685268721a66ae39f88153  \n",
       "2684719  0x0ed70f92b87ceced51a9e472fcd8d93a54a11835  \n",
       "2684720  0xc4bb83b0245aa98659c64503cb9db44cb67a9537  \n",
       "2684721  0x7afa41136b0384cb3e3283c47dcd488ba6713c28  \n",
       "2684722  0xb8012acd96f92a57207b89573507be1961d48cda  \n",
       "\n",
       "[2684723 rows x 2 columns]"
      ]
     },
     "execution_count": 7,
     "metadata": {},
     "output_type": "execute_result"
    }
   ],
   "source": []
  },
  {
   "cell_type": "code",
   "execution_count": 32,
   "id": "c1efdb99",
   "metadata": {},
   "outputs": [
    {
     "data": {
      "text/html": [
       "<div>\n",
       "<style scoped>\n",
       "    .dataframe tbody tr th:only-of-type {\n",
       "        vertical-align: middle;\n",
       "    }\n",
       "\n",
       "    .dataframe tbody tr th {\n",
       "        vertical-align: top;\n",
       "    }\n",
       "\n",
       "    .dataframe thead th {\n",
       "        text-align: right;\n",
       "    }\n",
       "</style>\n",
       "<table border=\"1\" class=\"dataframe\">\n",
       "  <thead>\n",
       "    <tr style=\"text-align: right;\">\n",
       "      <th></th>\n",
       "      <th>Buyer</th>\n",
       "      <th>Seller</th>\n",
       "      <th>Count</th>\n",
       "    </tr>\n",
       "  </thead>\n",
       "  <tbody>\n",
       "    <tr>\n",
       "      <th>0</th>\n",
       "      <td>...rc.wam</td>\n",
       "      <td>egnqy.waa</td>\n",
       "      <td>1</td>\n",
       "    </tr>\n",
       "    <tr>\n",
       "      <th>1</th>\n",
       "      <td>...rc.wam</td>\n",
       "      <td>nbxqy.wam</td>\n",
       "      <td>1</td>\n",
       "    </tr>\n",
       "    <tr>\n",
       "      <th>2</th>\n",
       "      <td>..1s.wam</td>\n",
       "      <td>o1lbu.wam</td>\n",
       "      <td>1</td>\n",
       "    </tr>\n",
       "    <tr>\n",
       "      <th>3</th>\n",
       "      <td>..24.wam</td>\n",
       "      <td>4u.b2.wam</td>\n",
       "      <td>1</td>\n",
       "    </tr>\n",
       "    <tr>\n",
       "      <th>4</th>\n",
       "      <td>..24.wam</td>\n",
       "      <td>kkbaw.wam</td>\n",
       "      <td>1</td>\n",
       "    </tr>\n",
       "    <tr>\n",
       "      <th>...</th>\n",
       "      <td>...</td>\n",
       "      <td>...</td>\n",
       "      <td>...</td>\n",
       "    </tr>\n",
       "    <tr>\n",
       "      <th>2684718</th>\n",
       "      <td>zzzri.wam</td>\n",
       "      <td>lbmba.wam</td>\n",
       "      <td>1</td>\n",
       "    </tr>\n",
       "    <tr>\n",
       "      <th>2684719</th>\n",
       "      <td>zzzri.wam</td>\n",
       "      <td>ptxra.wam</td>\n",
       "      <td>1</td>\n",
       "    </tr>\n",
       "    <tr>\n",
       "      <th>2684720</th>\n",
       "      <td>zzzri.wam</td>\n",
       "      <td>soulmate2god</td>\n",
       "      <td>1</td>\n",
       "    </tr>\n",
       "    <tr>\n",
       "      <th>2684721</th>\n",
       "      <td>zzzru.wam</td>\n",
       "      <td>rxfrk.wam</td>\n",
       "      <td>1</td>\n",
       "    </tr>\n",
       "    <tr>\n",
       "      <th>2684722</th>\n",
       "      <td>zzzru.wam</td>\n",
       "      <td>um3rw.wam</td>\n",
       "      <td>1</td>\n",
       "    </tr>\n",
       "  </tbody>\n",
       "</table>\n",
       "<p>2684723 rows × 3 columns</p>\n",
       "</div>"
      ],
      "text/plain": [
       "             Buyer        Seller  Count\n",
       "0        ...rc.wam     egnqy.waa      1\n",
       "1        ...rc.wam     nbxqy.wam      1\n",
       "2         ..1s.wam     o1lbu.wam      1\n",
       "3         ..24.wam     4u.b2.wam      1\n",
       "4         ..24.wam     kkbaw.wam      1\n",
       "...            ...           ...    ...\n",
       "2684718  zzzri.wam     lbmba.wam      1\n",
       "2684719  zzzri.wam     ptxra.wam      1\n",
       "2684720  zzzri.wam  soulmate2god      1\n",
       "2684721  zzzru.wam     rxfrk.wam      1\n",
       "2684722  zzzru.wam     um3rw.wam      1\n",
       "\n",
       "[2684723 rows x 3 columns]"
      ]
     },
     "execution_count": 32,
     "metadata": {},
     "output_type": "execute_result"
    }
   ],
   "source": [
    "grouped_df_distinct = df.groupby([\"Buyer\", \"Seller\"]).size().reset_index(name='Count')\n",
    "# grouped_df_distinct = grouped_df_distinct.reset_index()\n",
    "grouped_df_distinct"
   ]
  },
  {
   "cell_type": "code",
   "execution_count": 33,
   "id": "7042c4b8",
   "metadata": {},
   "outputs": [
    {
     "data": {
      "text/plain": [
       "array([1])"
      ]
     },
     "execution_count": 33,
     "metadata": {},
     "output_type": "execute_result"
    }
   ],
   "source": [
    "grouped_df_distinct[\"Count\"].unique()"
   ]
  },
  {
   "cell_type": "code",
   "execution_count": null,
   "id": "71943b17",
   "metadata": {},
   "outputs": [],
   "source": []
  }
 ],
 "metadata": {
  "interpreter": {
   "hash": "b0fa6594d8f4cbf19f97940f81e996739fb7646882a419484c72d19e05852a7e"
  },
  "kernelspec": {
   "display_name": "Python 3 (ipykernel)",
   "language": "python",
   "name": "python3"
  },
  "language_info": {
   "codemirror_mode": {
    "name": "ipython",
    "version": 3
   },
   "file_extension": ".py",
   "mimetype": "text/x-python",
   "name": "python",
   "nbconvert_exporter": "python",
   "pygments_lexer": "ipython3",
   "version": "3.9.7"
  }
 },
 "nbformat": 4,
 "nbformat_minor": 5
}
